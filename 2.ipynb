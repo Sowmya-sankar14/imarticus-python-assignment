{
 "cells": [
  {
   "cell_type": "code",
   "execution_count": 9,
   "id": "59a8f80d",
   "metadata": {},
   "outputs": [],
   "source": [
    "def addi(n):\n",
    "    dict = { 'Square': lambda a : a**2,\n",
    "         'Cube': lambda a : a**3,\n",
    "         'Squareroot': lambda a : a**(1/2)}\n",
    "    sum = 0\n",
    "    for key in dict.keys():\n",
    "        sum += dict[key](n)\n",
    "    return sum\n",
    "   "
   ]
  },
  {
   "cell_type": "code",
   "execution_count": null,
   "id": "9ee91564",
   "metadata": {},
   "outputs": [],
   "source": []
  },
  {
   "cell_type": "code",
   "execution_count": null,
   "id": "ed759639",
   "metadata": {},
   "outputs": [],
   "source": []
  }
 ],
 "metadata": {
  "kernelspec": {
   "display_name": "Python 3 (ipykernel)",
   "language": "python",
   "name": "python3"
  },
  "language_info": {
   "codemirror_mode": {
    "name": "ipython",
    "version": 3
   },
   "file_extension": ".py",
   "mimetype": "text/x-python",
   "name": "python",
   "nbconvert_exporter": "python",
   "pygments_lexer": "ipython3",
   "version": "3.9.7"
  }
 },
 "nbformat": 4,
 "nbformat_minor": 5
}
