{
 "cells": [
  {
   "cell_type": "code",
   "execution_count": 4,
   "id": "1650f86e",
   "metadata": {},
   "outputs": [
    {
     "name": "stdout",
     "output_type": "stream",
     "text": [
      "positive: ['He is good boy', 'He is an awesome player', 'She is the best', 'These burgers are really nice']\n",
      "negative: ['Food is worst here', 'The pizza tastes awful']\n"
     ]
    }
   ],
   "source": [
    "positive=['good','best','awesome','nice']\n",
    "negative=['worst','awful']\n",
    "p=[]\n",
    "n=[]\n",
    "comments=['He is good boy','Food is worst here','He is an awesome player','She is the best','The pizza tastes awful','These burgers are really nice']\n",
    "for j in range(0,1):    \n",
    "    for i in range(0,len(comments)):\n",
    "        if positive[j] in comments[i] or positive[j+1] in comments[i] or positive[j+2] in comments[i] or positive[j+3] in comments[i]:\n",
    "            p.append(comments[i])\n",
    "        elif negative[j] in comments[i] or negative[j+1] in comments[i]:\n",
    "            n.append(comments[i])\n",
    "print(\"positive:\",p)\n",
    "print(\"negative:\",n)"
   ]
  }
 ],
 "metadata": {
  "kernelspec": {
   "display_name": "Python 3 (ipykernel)",
   "language": "python",
   "name": "python3"
  },
  "language_info": {
   "codemirror_mode": {
    "name": "ipython",
    "version": 3
   },
   "file_extension": ".py",
   "mimetype": "text/x-python",
   "name": "python",
   "nbconvert_exporter": "python",
   "pygments_lexer": "ipython3",
   "version": "3.9.7"
  }
 },
 "nbformat": 4,
 "nbformat_minor": 5
}
